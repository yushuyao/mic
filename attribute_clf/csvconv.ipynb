{
 "cells": [
  {
   "cell_type": "code",
   "execution_count": 1,
   "id": "e2f79f4a",
   "metadata": {},
   "outputs": [],
   "source": [
    "import csv\n",
    "csvfile=open('../data/mic/micnew.csv')\n",
    "r = csv.reader(csvfile, delimiter=',', quotechar='\"')\n"
   ]
  },
  {
   "cell_type": "markdown",
   "id": "2feececb",
   "metadata": {},
   "source": [
    "0=not agree, 1=neither, 2=agree"
   ]
  },
  {
   "cell_type": "code",
   "execution_count": 24,
   "id": "3999c349",
   "metadata": {},
   "outputs": [
    {
     "data": {
      "text/plain": [
       "(\"Q: Why doesnt another country beside America step in first when world conflicts arise? A: I think it has to do with the fact that the US is the most powerful country in the world. RoT: It is wrong to assume one's country is the best or most powerful in the world\",\n",
       " '0')"
      ]
     },
     "execution_count": 24,
     "metadata": {},
     "output_type": "execute_result"
    }
   ],
   "source": [
    "row=next(r)\n",
    "(\"Q: \"+row[1]+\" A: \"+row[2]+\" RoT: \"+row[3], row[6])"
   ]
  },
  {
   "cell_type": "code",
   "execution_count": null,
   "id": "21e3413d",
   "metadata": {},
   "outputs": [],
   "source": []
  }
 ],
 "metadata": {
  "kernelspec": {
   "display_name": "Python 3",
   "language": "python",
   "name": "python3"
  },
  "language_info": {
   "codemirror_mode": {
    "name": "ipython",
    "version": 3
   },
   "file_extension": ".py",
   "mimetype": "text/x-python",
   "name": "python",
   "nbconvert_exporter": "python",
   "pygments_lexer": "ipython3",
   "version": "3.7.16"
  }
 },
 "nbformat": 4,
 "nbformat_minor": 5
}
